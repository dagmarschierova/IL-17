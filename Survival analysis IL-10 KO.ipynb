{
 "cells": [
  {
   "cell_type": "code",
   "execution_count": 1,
   "id": "9f65beaf",
   "metadata": {
    "scrolled": false
   },
   "outputs": [
    {
     "name": "stderr",
     "output_type": "stream",
     "text": [
      "Registered S3 methods overwritten by 'tibble':\n",
      "  method     from  \n",
      "  format.tbl pillar\n",
      "  print.tbl  pillar\n",
      "Registered S3 method overwritten by 'rvest':\n",
      "  method            from\n",
      "  read_xml.response xml2\n",
      "-- Attaching packages ------------------------------------------------------------------------------- tidyverse 1.2.1 --\n",
      "v ggplot2 3.3.5       v purrr   0.3.2  \n",
      "v tibble  2.1.1       v dplyr   0.8.0.1\n",
      "v tidyr   0.8.3       v stringr 1.4.0  \n",
      "v readr   1.3.1       v forcats 0.4.0  \n",
      "-- Conflicts ---------------------------------------------------------------------------------- tidyverse_conflicts() --\n",
      "x dplyr::filter() masks stats::filter()\n",
      "x dplyr::lag()    masks stats::lag()\n",
      "Warning message:\n",
      "\"package 'survminer' was built under R version 3.6.3\"Loading required package: ggpubr\n",
      "Warning message:\n",
      "\"package 'ggpubr' was built under R version 3.6.3\"Error: package or namespace load failed for 'ggpubr' in loadNamespace(j <- i[[1L]], c(lib.loc, .libPaths()), versionCheck = vI[[j]]):\n",
      " namespace 'broom' 0.5.2 is already loaded, but >= 0.7.4 is required\n"
     ]
    },
    {
     "ename": "ERROR",
     "evalue": "Error: package 'ggpubr' could not be loaded\n",
     "output_type": "error",
     "traceback": [
      "Error: package 'ggpubr' could not be loaded\nTraceback:\n",
      "1. library(survminer)",
      "2. .getRequiredPackages2(pkgInfo, quietly = quietly)",
      "3. stop(gettextf(\"package %s could not be loaded\", sQuote(pkg)), \n .     call. = FALSE, domain = NA)"
     ]
    }
   ],
   "source": [
    "library(tidyverse) ## basics\n",
    "library(survival) ## survival analysis\n",
    "library(survminer) ## survival plotting"
   ]
  },
  {
   "cell_type": "code",
   "execution_count": 3,
   "id": "362eca4b",
   "metadata": {},
   "outputs": [
    {
     "ename": "ERROR",
     "evalue": "Error: '\\D' is an unrecognized escape in character string starting \"\"(C:Users\\D\"\n",
     "output_type": "error",
     "traceback": [
      "Error: '\\D' is an unrecognized escape in character string starting \"\"(C:Users\\D\"\nTraceback:\n"
     ]
    }
   ],
   "source": [
    "# load metadata\n",
    "metadata <- read.delim(r\"(C:Users\\Dasa\\Documents\\MEGA\\IMG\\study_5_revisions\\qiime2_results\\metadata.tsv)\", sep='\\t')\n",
    "\n",
    "# load alpha diversity\n",
    "shannon <- read.delim(\"/Users/dagmarschierova/MEGA/IMG/study_5_revisions/qiime2_results/diversity_raref_1192/alpha/shannon_tabulated.tsv\", sep='\\t')\n",
    "faith <- read.delim(\"/Users/dagmarschierova/MEGA/IMG/study_5_revisions/qiime2_results/diversity_raref_1192/alpha/faith_pd_tabulated.tsv\", sep='\\t')\n",
    "asv <- read.delim(\"/Users/dagmarschierova/MEGA/IMG/study_5_revisions/qiime2_results/diversity_raref_1192/alpha/observed_features_tabulated.tsv\", sep='\\t')\n",
    "chao1 <- read.delim(\"/Users/dagmarschierova/MEGA/IMG/study_5_revisions/qiime2_results/diversity_raref_1192/alpha/chao1_tabulated.tsv\", sep='\\t')\n",
    "\n",
    "# rename SampleID column\n",
    "shannon <- rename(shannon, SampleID=X)\n",
    "faith <- rename(faith, SampleID=X)\n",
    "asv <- rename(asv, SampleID=X)\n",
    "chao1 <- rename(chao1, SampleID=X)\n",
    "\n",
    "# merge alpha diversity with metadata\n",
    "metadata <- merge(metadata,shannon, by = c(\"SampleID\"))\n",
    "metadata <- merge(metadata,chao1, by = c(\"SampleID\"))\n",
    "metadata <- merge(metadata,asv, by = c(\"SampleID\"))\n",
    "metadata <- merge(metadata,faith, by = c(\"SampleID\"))\n",
    "\n",
    "# filter metadata\n",
    "metadata <- filter(metadata, Genotype==\"KO\" | Genotype==\"WT\" | Genotype==\"KO_IL17\")\n",
    "metadata <- filter(metadata, Experiment==\"exp_1\" | Experiment==\"exp_2\")\n",
    "meta_wtko <- filter(metadata, Genotype==\"KO\" | Genotype==\"WT\")\n",
    "meta_wtko17 <- filter(metadata, Genotype==\"WT\" | Genotype==\"KO_IL17\")\n",
    "meta_koko17 <- filter(metadata, Genotype==\"KO\" | Genotype==\"KO_IL17\")\n"
   ]
  },
  {
   "cell_type": "markdown",
   "id": "1ce57ded",
   "metadata": {},
   "source": [
    "## Survival depending on metadata"
   ]
  },
  {
   "cell_type": "code",
   "execution_count": null,
   "id": "9740b180",
   "metadata": {},
   "outputs": [],
   "source": [
    "# null model\n",
    "cox.model <- coxph(Surv(Survival_day, Death)~1, data=metadata)\n",
    "summary(cox.model)"
   ]
  },
  {
   "cell_type": "code",
   "execution_count": null,
   "id": "242dcf8b",
   "metadata": {
    "scrolled": false
   },
   "outputs": [],
   "source": [
    "ggsurvplot(survfit(cox.model), data=metadata)"
   ]
  },
  {
   "cell_type": "code",
   "execution_count": null,
   "id": "a1160bca",
   "metadata": {},
   "outputs": [],
   "source": [
    "# model genotype 3 groups\n",
    "cox.model.geno <- coxph(Surv(Survival_day, Death)~Genotype, data=metadata)\n",
    "summary(cox.model.geno)\n",
    "# model genotype 2 groups (WT vs KO)\n",
    "cox.model.geno.wtko <- coxph(Surv(Survival_day, Death)~Genotype, data=meta_wtko)\n",
    "summary(cox.model.geno.wtko)\n",
    "# model genotype 2 groups (KO vs KO+IL-17)\n",
    "cox.model.geno.koko17 <- coxph(Surv(Survival_day, Death)~Genotype, data=meta_koko17)\n",
    "summary(cox.model.geno.koko17)"
   ]
  },
  {
   "cell_type": "code",
   "execution_count": null,
   "id": "0151cc91",
   "metadata": {
    "scrolled": false
   },
   "outputs": [],
   "source": [
    "fit <- survfit(Surv(Survival_day, Death) ~ Genotype, data=metadata)\n",
    "ggsurvplot(fit, data=metadata, conf.int=TRUE, pval=TRUE, pval.method=TRUE, tables.height=c(0.2, 0.2),\n",
    "           risk.table=TRUE, cumevents=TRUE, legend.labs=c(\"KO\", \"KO + IL-17\", \"WT\"))"
   ]
  },
  {
   "cell_type": "code",
   "execution_count": null,
   "id": "6a116acd",
   "metadata": {
    "scrolled": false
   },
   "outputs": [],
   "source": [
    "# model weight\n",
    "cox.model.weight <- coxph(Surv(Survival_day, Death)~Weight_D3, data=metadata)\n",
    "summary(cox.model.weight)"
   ]
  },
  {
   "cell_type": "markdown",
   "id": "8216f335",
   "metadata": {},
   "source": [
    "### Interpretation\n",
    "*Předpokládám, že tyhle modely asi už máte, protože ty s mikrobiomem nesouvisí, ale aspoň jsem si vyzkoušela, jak to funguje :D*<br>\n",
    "**Model phenotype**<br>\n",
    "We found that survival does have a significant relationship with phenotype (WT vs KO). The model fits quite well given the Likelihood, Wald and Score tests all have p < 0.05.<br>\n",
    "At a given instant of time the probability of dying for a KO mouse is 9.0 times higher than for a WT mouse.<br>\n",
    "**Model weight**<br>\n",
    "We found that survival does have a significant relationship with weight (p=0.00927). The model fits quite well given the Likelihood, Wald and Score tests all have p < 0.05.<br>\n",
    "At a given instant of time the probability of dying for a mouse which weighs 1g less is 1.2 times higher than for a mouse which weighs 1g more."
   ]
  },
  {
   "cell_type": "markdown",
   "id": "e2811621",
   "metadata": {},
   "source": [
    "## Survival depending on alpha diversity"
   ]
  },
  {
   "cell_type": "code",
   "execution_count": null,
   "id": "14d634e6",
   "metadata": {},
   "outputs": [],
   "source": [
    "# model survival dependent on alpha diversity while adjusting for litter\n",
    "cox.model.sha <- coxph(Surv(Survival_day, Death)~shannon_entropy, data=metadata)\n",
    "summary(cox.model.sha)\n",
    "cox.model.cha <- coxph(Surv(Survival_day, Death)~chao1, data=metadata)\n",
    "summary(cox.model.cha)\n",
    "cox.model.fai <- coxph(Surv(Survival_day, Death)~faith_pd, data=metadata)\n",
    "summary(cox.model.fai)\n",
    "cox.model.asv <- coxph(Surv(Survival_day, Death)~observed_features, data=metadata)\n",
    "summary(cox.model.asv)"
   ]
  },
  {
   "cell_type": "markdown",
   "id": "ec86ce81",
   "metadata": {},
   "source": [
    "### Interpretation\n",
    "**Shannon**<br>\n",
    "This model tells us there is almost a significant relationship between Shannon entropy and survival (p=0.0552). Also we can be quite confident this model is a good fit, given the Likelihood, Wald and Score tests have in general low p value.<br>\n",
    "At a given instant of time the probability of dying for a mouse which has 1 less point in Shannon entropy is 1.8 times higher than for a mouse with 1 point more in Shannon entropy while adjusting for litter effect.<br>\n",
    "**Chao1**<br>\n",
    "This model is not reliable at all given the Likelihood, Wald and Score tests  all have p=0.2. Additionally, it does not identify a significant relationship between Faith's PD and survival (p=0.173).<br>\n",
    "**Faith's phylogenetic diversity**<br>\n",
    "This model is not reliable at all given the Likelihood, Wald and Score tests  all have p=0.5. Additionally, it does not identify a significant relationship between Faith's PD and survival (p=0.528).<br>\n",
    "**ASV**<br>\n",
    "This model is not reliable at all given the Likelihood, Wald and Score tests  all have p=0.2. Additionally, it does not identify a significant relationship between Faith's PD and survival (p=0.175).<br>"
   ]
  },
  {
   "cell_type": "code",
   "execution_count": null,
   "id": "6603df3c",
   "metadata": {},
   "outputs": [],
   "source": [
    "kruskal.test(shannon_entropy ~ Death_categ, data=metadata)"
   ]
  },
  {
   "cell_type": "code",
   "execution_count": null,
   "id": "36924953",
   "metadata": {},
   "outputs": [],
   "source": [
    "options(repr.plot.width=8, repr.plot.height=8)\n",
    "\n",
    "ggplot(metadata, aes(y=shannon_entropy, x=Death_categ, color=Death_categ)) +\n",
    "      geom_boxplot() +\n",
    "      geom_jitter(width=0.3, size=3, aes(shape=Litter)) +\n",
    "      geom_signif(comparisons=list(c(\"died\", \"survived\")), annotations=\" p = 0.0478\", textsize=5, color='black') +\n",
    "      labs(x=\"\", y=\"Shannon entropy\") +\n",
    "      theme_bw() +\n",
    "      theme(panel.grid=element_blank(), legend.position=\"none\",\n",
    "            text=element_text(size=14, colour=\"black\"),\n",
    "            axis.text.x = element_text(size = 14, colour = \"black\"))"
   ]
  },
  {
   "cell_type": "markdown",
   "id": "3d95dc44",
   "metadata": {},
   "source": [
    "## Survival depending on beta diversity"
   ]
  },
  {
   "cell_type": "code",
   "execution_count": null,
   "id": "3cb4f31a",
   "metadata": {},
   "outputs": [],
   "source": [
    "# load beta diversity pca coordinates\n",
    "bray.pca <- read.delim(\"/Users/dagmarschierova/MEGA/IMG/study_5_revisions/qiime2_results/diversity_raref_1192_litter12/beta/bray_curtis_pca_exported.tsv\", sep='\\t')\n",
    "jacc.pca <- read.delim(\"/Users/dagmarschierova/MEGA/IMG/study_5_revisions/qiime2_results/diversity_raref_1192_litter12/beta/jaccard_pca_exported.tsv\", sep='\\t')\n",
    "uuni.pca <- read.delim(\"/Users/dagmarschierova/MEGA/IMG/study_5_revisions/qiime2_results/diversity_raref_1192_litter12/beta/unweighted_unifrac_pca_exported.tsv\", sep='\\t')\n",
    "wuni.pca <- read.delim(\"/Users/dagmarschierova/MEGA/IMG/study_5_revisions/qiime2_results/diversity_raref_1192_litter12/beta/weighted_unifrac_pca_exported.tsv\", sep='\\t')\n",
    "\n",
    "# add beta diversity PC1 to metadata\n",
    "metadata$Bray_PC1 <- bray.pca$PC1\n",
    "metadata$Jacc_PC1 <- jacc.pca$PC1\n",
    "metadata$Uuni_PC1 <- uuni.pca$PC1\n",
    "metadata$Wuni_PC1 <- wuni.pca$PC1\n",
    "metadata$Bray_PC2 <- bray.pca$PC2\n",
    "metadata$Jacc_PC2 <- jacc.pca$PC2\n",
    "metadata$Uuni_PC2 <- uuni.pca$PC2\n",
    "metadata$Wuni_PC2 <- wuni.pca$PC2"
   ]
  },
  {
   "cell_type": "code",
   "execution_count": null,
   "id": "76080c2c",
   "metadata": {},
   "outputs": [],
   "source": [
    "# model survival dependent on beta diversity while adjusting for litter\n",
    "cox.model.bray <- coxph(Surv(Survival_day, Death)~Bray_PC1+(1|Litter_num), data=metadata)\n",
    "summary(cox.model.bray)\n",
    "cox.model.jacc <- coxph(Surv(Survival_day, Death)~Jacc_PC1+(1|Litter_num), data=metadata)\n",
    "summary(cox.model.jacc)\n",
    "cox.model.uuni <- coxph(Surv(Survival_day, Death)~Uuni_PC1+(1|Litter_num), data=metadata)\n",
    "summary(cox.model.uuni)\n",
    "cox.model.wuni <- coxph(Surv(Survival_day, Death)~Wuni_PC1+(1|Litter_num), data=metadata)\n",
    "summary(cox.model.wuni)"
   ]
  },
  {
   "cell_type": "code",
   "execution_count": null,
   "id": "73855e6f",
   "metadata": {},
   "outputs": [],
   "source": [
    "# model survival dependent on beta diversity while adjusting for litter\n",
    "cox.model2.bray <- coxph(Surv(Survival_day, Death)~Bray_PC1+Bray_PC2+(1|Litter_num), data=metadata)\n",
    "summary(cox.model2.bray)\n",
    "cox.model2.jacc <- coxph(Surv(Survival_day, Death)~Jacc_PC1+Jacc_PC2+(1|Litter_num), data=metadata)\n",
    "summary(cox.model2.jacc)\n",
    "cox.model2.uuni <- coxph(Surv(Survival_day, Death)~Uuni_PC1+Uuni_PC2+(1|Litter_num), data=metadata)\n",
    "summary(cox.model2.uuni)\n",
    "cox.model2.wuni <- coxph(Surv(Survival_day, Death)~Wuni_PC1+Wuni_PC2+(1|Litter_num), data=metadata)\n",
    "summary(cox.model2.wuni)"
   ]
  },
  {
   "cell_type": "code",
   "execution_count": null,
   "id": "68c9ccb6",
   "metadata": {},
   "outputs": [],
   "source": [
    "# copmarison of the models with one vs two predictors\n",
    "anova.bray <- anova(cox.model.bray, cox.model2.bray, test=\"LRT\")\n",
    "anova.jacc <- anova(cox.model.jacc, cox.model2.jacc, test=\"LRT\")\n",
    "anova.uuni <- anova(cox.model.uuni, cox.model2.uuni, test=\"LRT\")\n",
    "anova.wuni <- anova(cox.model.wuni, cox.model2.wuni, test=\"LRT\")\n",
    "anova.bray\n",
    "anova.jacc\n",
    "anova.uuni\n",
    "anova.wuni"
   ]
  },
  {
   "cell_type": "markdown",
   "id": "91b5099a",
   "metadata": {},
   "source": [
    "### Interpretation\n",
    "In this section we tested the survival dependence on beta diversity. In total, we tested two scenarios: **(1)** in the first scenario we used only the major principal coordinate axis (PC1) as a survival predictor, **(2)** in the second scenario we used two principal coordinate axes (PC1, PC2) as predictors. We compared these two scenarios using Likelihood ratio test and found out that using both PC axes results in slightly better models. Therefore, we decided to use the models with two predictors (PC1, PC2).<br>\n",
    "**Bray-Curtis**<br>\n",
    "This models tells us there is no significant relationship between first two PCoA axes (beta diversity) and survival. However, this model is not a good fit, given the Likelihood, Wald and Score tests all have p>0.05.<br>\n",
    "**Jaccard**<br>\n",
    "This models tells us there is no significant relationship between first two PCoA axes (beta diversity) and survival. However, this model is not a good fit, given the Likelihood, Wald and Score tests all have p>0.05.<br>\n",
    "**unweighted UniFrac**<br>\n",
    "This models tells us there is no significant relationship between PC1 and survival (p=0.084) while there is a significant relationship bwteen PC2 and survival (p=0.063). Also we can be quite confident this model is a good fit, given the Likelihood, Wald and Score tests all have p<0.05.<br>\n",
    "**weighted UniFrac**<br>\n",
    "This models tells us there is no significant relationship between first two PCoA axes (beta diversity) and survival. However, this model is not a good fit, given the Likelihood, Wald and Score tests all have p>0.05.<br>\n",
    "Taken together, we have not found an effect of beta diversity on survival while controlling litter as a random effect."
   ]
  },
  {
   "cell_type": "markdown",
   "id": "5a51f345",
   "metadata": {},
   "source": [
    "## Survival depending on taxonomy"
   ]
  },
  {
   "cell_type": "code",
   "execution_count": null,
   "id": "aedd0c02",
   "metadata": {},
   "outputs": [],
   "source": [
    "# load taxonomy data\n",
    "tax_data <- read_tsv(\"/Users/dagmarschierova/MEGA/IMG/study_5_revisions/qiime2_results/taxonomy_raref_1192/taxonomy-L6-abs.tsv\", skip=1)\n",
    "tax_id <- tax_data$`#OTU ID`\n",
    "tax_data <- data.frame(tax_data[, -1], check.names = FALSE)\n",
    "rownames(tax_data) <- tax_id\n",
    "tax_data <- t(tax_data)\n",
    "\n",
    "tax_data_rel <- read_tsv(\"/Users/dagmarschierova/MEGA/IMG/study_5_revisions/qiime2_results/taxonomy_raref_1192/taxonomy-L6-rel.tsv\", skip=1)\n",
    "tax_id <- tax_data_rel$`#OTU ID`\n",
    "tax_data_rel <- data.frame(tax_data_rel[, -1], check.names = FALSE)\n",
    "rownames(tax_data_rel) <- tax_id\n",
    "tax_data_rel <- t(tax_data_rel)\n",
    "\n",
    "# merge alpha diversity with metadata\n",
    "tax_data <- merge(tax_data, metadata, by.x=0, by.y=c(\"SampleID\"))\n",
    "tax_wtko <- filter(tax_data, Genotype==\"KO\" | Genotype==\"WT\")\n",
    "tax_wtko17 <- filter(tax_data, Genotype==\"WT\" | Genotype==\"KO_IL17\")\n",
    "tax_koko17 <- filter(tax_data, Genotype==\"KO\" | Genotype==\"KO_IL17\")\n",
    "tax_data_rel <- merge(tax_data_rel, metadata, by.x=0, by.y=c(\"SampleID\"))\n"
   ]
  },
  {
   "cell_type": "markdown",
   "id": "5584f83f",
   "metadata": {},
   "source": [
    "#### all 3 groups WT, KO, KO+IL-17"
   ]
  },
  {
   "cell_type": "code",
   "execution_count": null,
   "id": "f7599faf",
   "metadata": {},
   "outputs": [],
   "source": [
    "# survival all 3 groups WT, KO, KO+IL-17\n",
    "\n",
    "taxa <- seq_along(tax_data)[2:49]\n",
    "pvals <- as.numeric()\n",
    "exp_coef <- as.numeric()\n",
    "\n",
    "# apply coxph model on each taxon and store pval and coeficient\n",
    "options(warn=-1)\n",
    "for (taxon in taxa)\n",
    "{\n",
    "  cox.model.tax <- coxph(Surv(tax_data$Survival_day, tax_data$Death)~tax_data[,taxon]+(1|tax_data$Litter_num))\n",
    "  pvals[taxon]<-summary(cox.model.tax)$coefficients[,5]\n",
    "  exp_coef[taxon]<-summary(cox.model.tax)$coefficients[,2]\n",
    "  assign(paste0(\"model_\", taxon), cox.model.tax)\n",
    "}\n",
    "\n",
    "# correct for multiple hypothesis testing\n",
    "qval <- p.adjust(pvals, \"BH\")\n",
    "\n",
    "# organize results in a table\n",
    "table<-data.frame(Taxa=colnames(tax_data)[2:49], model_num=taxa, p_values=pvals[-1], BH_corr=qval[-1], exp_coef=exp_coef[-1])\n",
    "write.table(table,\"/Users/dagmarschierova/MEGA/IMG/study_5_revisions/statistic_results/survival_taxon.tsv\",\n",
    "            row.names = F, quote = F, sep=\"\\t\")\n",
    "options(warn=0)"
   ]
  },
  {
   "cell_type": "code",
   "execution_count": null,
   "id": "75774e6e",
   "metadata": {},
   "outputs": [],
   "source": [
    "kruskal_rum <- kruskal.test(`k__Bacteria;p__Firmicutes;c__Clostridia;o__Clostridiales;f__Ruminococcaceae;g__Ruminococcus` ~ Death_categ, data=tax_data)\n",
    "kruskal_bla <- kruskal.test(`k__Bacteria;p__Firmicutes;c__Clostridia;o__Clostridiales;f__Lachnospiraceae;g__Blautia` ~ Death_categ, data=tax_data)\n",
    "kruskal_xan <- kruskal.test(`k__Bacteria;p__Proteobacteria;c__Gammaproteobacteria;o__Xanthomonadales;f__Xanthomonadaceae;__` ~ Death_categ, data=tax_data)\n",
    "kruskal_rum\n",
    "kruskal_bla\n",
    "kruskal_xan"
   ]
  },
  {
   "cell_type": "code",
   "execution_count": null,
   "id": "016075fc",
   "metadata": {},
   "outputs": [],
   "source": [
    "options(repr.plot.width=12, repr.plot.height=6)\n",
    "\n",
    "ruminococcus <- ggplot(tax_wtko, aes(y=`k__Bacteria;p__Firmicutes;c__Clostridia;o__Clostridiales;f__Ruminococcaceae;g__Ruminococcus`,\n",
    "                     x=Death_categ, color=Death_categ)) +\n",
    "      geom_boxplot(outlier.shape=NA) +\n",
    "      geom_jitter(width=0.3, height=0.2, size=3, aes(shape=Litter)) +\n",
    "      labs(x=\"\", y=\"Ruminococcus\") +\n",
    "      theme_bw() +\n",
    "      theme(panel.grid=element_blank(), legend.position=\"none\",\n",
    "            text=element_text(size=14, colour=\"black\"),\n",
    "            axis.text.x = element_text(size=14, colour = \"black\"))\n",
    "\n",
    "blautia <- ggplot(tax_wtko, aes(y=`k__Bacteria;p__Firmicutes;c__Clostridia;o__Clostridiales;f__Lachnospiraceae;g__Blautia`,\n",
    "                     x=Death_categ, color=Death_categ)) +\n",
    "      geom_boxplot(outlier.shape=NA) +\n",
    "      geom_jitter(width=0.3, height=0.2, size=3, aes(shape=Litter)) +\n",
    "      labs(x=\"\", y=\"Blautia\") +\n",
    "      theme_bw() +\n",
    "      theme(panel.grid=element_blank(), legend.position=\"none\",\n",
    "            text=element_text(size=14, colour=\"black\"),\n",
    "            axis.text.x = element_text(size=14, colour = \"black\"))\n",
    "\n",
    "xanthomonadaceae <- ggplot(tax_wtko, aes(y=`k__Bacteria;p__Proteobacteria;c__Gammaproteobacteria;o__Xanthomonadales;f__Xanthomonadaceae;__`,\n",
    "                     x=Death_categ, color=Death_categ)) +\n",
    "      geom_boxplot(outlier.shape=NA) +\n",
    "      geom_jitter(width=0.3, height=0.2, size=3, aes(shape=Litter)) +\n",
    "      labs(x=\"\", y=\"Xanthomonadaceae\") +\n",
    "      theme_bw() +\n",
    "      theme(panel.grid=element_blank(), legend.position=\"none\",\n",
    "            text=element_text(size=14, colour=\"black\"),\n",
    "            axis.text.x = element_text(size=14, colour = \"black\"))\n",
    "\n",
    "# combine plots\n",
    "plt_tax_wtko <- ggarrange(ruminococcus, blautia, xanthomonadaceae,\n",
    "                        ncol=3, nrow=1)\n",
    "plt_tax_wtko"
   ]
  },
  {
   "cell_type": "code",
   "execution_count": null,
   "id": "fbf1ca5b",
   "metadata": {},
   "outputs": [],
   "source": [
    "write.table(tax_data,\"/Users/dagmarschierova/MEGA/IMG/study_5_revisions/statistic_results/survival_data_L6-abs.tsv\",\n",
    "            row.names = F, quote = F, sep=\"\\t\")\n",
    "write.table(tax_data_rel,\"/Users/dagmarschierova/MEGA/IMG/study_5_revisions/statistic_results/survival_data_L6-rel.tsv\",\n",
    "            row.names = F, quote = F, sep=\"\\t\")"
   ]
  },
  {
   "cell_type": "code",
   "execution_count": null,
   "id": "59b1a3f2",
   "metadata": {},
   "outputs": [],
   "source": []
  }
 ],
 "metadata": {
  "kernelspec": {
   "display_name": "R",
   "language": "R",
   "name": "ir"
  },
  "language_info": {
   "codemirror_mode": "r",
   "file_extension": ".r",
   "mimetype": "text/x-r-source",
   "name": "R",
   "pygments_lexer": "r",
   "version": "4.1.2"
  }
 },
 "nbformat": 4,
 "nbformat_minor": 5
}
